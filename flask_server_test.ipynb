{
 "cells": [
  {
   "cell_type": "code",
   "execution_count": 22,
   "metadata": {
    "collapsed": true
   },
   "outputs": [],
   "source": [
    "# flask_ml2production.py\n",
    "import numpy as np\n",
    "import pickle\n",
    "import json\n",
    "from flask import Flask, abort, jsonify,request"
   ]
  },
  {
   "cell_type": "code",
   "execution_count": 2,
   "metadata": {
    "collapsed": true
   },
   "outputs": [],
   "source": [
    "my_random_forest = pickle.load(open('iris_rfc.pkl', 'rb'))"
   ]
  },
  {
   "cell_type": "code",
   "execution_count": 26,
   "metadata": {},
   "outputs": [],
   "source": [
    "data_in = json.dumps({'sl':5.84, 'sw':3.0, 'pl':3.75, 'pw':1.1})"
   ]
  },
  {
   "cell_type": "code",
   "execution_count": 27,
   "metadata": {},
   "outputs": [],
   "source": [
    "data = json.loads(data_in)"
   ]
  },
  {
   "cell_type": "code",
   "execution_count": 25,
   "metadata": {},
   "outputs": [
    {
     "name": "stdout",
     "output_type": "stream",
     "text": [
      "[[ 5.84  3.    3.75  1.1 ]]\n",
      "\"[1]\"\n"
     ]
    }
   ],
   "source": [
    "predict_request = [data['sl'], data['sw'], data['pl'], data['pw']]\n",
    "predict_request = np.array(predict_request).reshape((1, -1))\n",
    "y_hat = my_random_forest.predict(predict_request)\n",
    "output = [y_hat[0]]\n",
    "print(json.dumps(str(output)))"
   ]
  }
 ],
 "metadata": {
  "kernelspec": {
   "display_name": "Python 3",
   "language": "python",
   "name": "python3"
  },
  "language_info": {
   "codemirror_mode": {
    "name": "ipython",
    "version": 3
   },
   "file_extension": ".py",
   "mimetype": "text/x-python",
   "name": "python",
   "nbconvert_exporter": "python",
   "pygments_lexer": "ipython3",
   "version": "3.6.1"
  }
 },
 "nbformat": 4,
 "nbformat_minor": 2
}
